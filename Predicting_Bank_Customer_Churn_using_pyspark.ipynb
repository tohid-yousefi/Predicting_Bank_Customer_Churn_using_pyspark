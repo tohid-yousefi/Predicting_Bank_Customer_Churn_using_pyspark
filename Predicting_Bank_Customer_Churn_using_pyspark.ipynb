{
 "cells": [
  {
   "cell_type": "markdown",
   "id": "0b50c006-24b8-4814-a31a-42d12243858e",
   "metadata": {},
   "source": [
    "# Predicting Bank Customer Churn using pyspark\n",
    "\n",
    "📌  In this section, we will predict bank customer churn using pyspark machine learning algorithms. "
   ]
  },
  {
   "cell_type": "markdown",
   "id": "902a4395-629d-4b5d-9209-eef4a8666825",
   "metadata": {
    "tags": []
   },
   "source": [
    "# Business Problem\n",
    "\n",
    "📌 In order for the bank to serve more, we need to predict whether the customer will leave the bank, and we also need to make sure that the customers will not leave the bank."
   ]
  },
  {
   "cell_type": "markdown",
   "id": "7d32c265-72e1-49ec-abfc-86199dd8a961",
   "metadata": {
    "jp-MarkdownHeadingCollapsed": true,
    "tags": []
   },
   "source": [
    "# Dataset Story\n",
    "\n",
    "📌 This dataset contains details of a banks customers and the target variable is a binary variable reflecting the fact whether the customer left the bank (closed his account) or he continues to be a customer.\n",
    "\n",
    "The features in the given dataset are:\n",
    "\n",
    "    rownumber: Row Numbers from 1 to 10000.\n",
    "\n",
    "    customerid: A unique ID that identifies each customer.\n",
    "\n",
    "    surname: The customer’s surname.\n",
    "\n",
    "    creditscore: A credit score is a number between 300–850 that depicts a consumer's creditworthiness.\n",
    "\n",
    "    geography: The country from which the customer belongs to.\n",
    "\n",
    "    Gender: The customer’s gender: Male, Female\n",
    "\n",
    "    Age: The customer’s current age, in years, at the time of being customer.\n",
    "\n",
    "    tenure: The number of years for which the customer has been with the bank.\n",
    "\n",
    "    balance: Bank balance of the customer.\n",
    "\n",
    "    numofproducts: the number of bank products the customer is utilising.\n",
    "\n",
    "    h0ascrcard: The number of credit cards given to the customer by the bank.\n",
    "\n",
    "    isactivemember: Binary Flag for indicating if the client is active or not with the bank before the moment where the client exits the company (recorded in the variable \"exited\")\n",
    "\n",
    "    exited: Binary flag 1 if the customer closed account with bank and 0 if the customer is retained.\n",
    "\n"
   ]
  },
  {
   "cell_type": "markdown",
   "id": "34de6b1f-2a6d-4600-8a60-b244f1d24077",
   "metadata": {},
   "source": [
    "# Create Session in Spark"
   ]
  },
  {
   "cell_type": "code",
   "execution_count": 4,
   "id": "8ac5720f-a9d0-467e-b129-1c004238f2d1",
   "metadata": {},
   "outputs": [
    {
     "name": "stdout",
     "output_type": "stream",
     "text": [
      "Requirement already satisfied: findspark in c:\\users\\tohid\\anaconda3\\lib\\site-packages (2.0.1)\n"
     ]
    }
   ],
   "source": [
    "!pip install findspark\n",
    "import findspark\n",
    "findspark.init(\"C:\\spark\")\n",
    "import pyspark\n",
    "from pyspark.sql import SparkSession\n",
    "from pyspark.conf import SparkConf\n",
    "from pyspark import SparkContext\n",
    "spark = SparkSession.builder \\\n",
    "    .master(\"local\") \\\n",
    "    .appName(\"Churn_Modeling\") \\\n",
    "    .config(\"spark.sql.shuffle.partitions\", \"2\") \\\n",
    "    .getOrCreate()\n",
    "sc = spark.sparkContext"
   ]
  },
  {
   "cell_type": "code",
   "execution_count": 5,
   "id": "e64c9e92-2502-4089-959f-ac0b0135b840",
   "metadata": {},
   "outputs": [
    {
     "data": {
      "text/html": [
       "\n",
       "        <div>\n",
       "            <p><b>SparkContext</b></p>\n",
       "\n",
       "            <p><a href=\"http://DESKTOP-9AQ8NK1:4041\">Spark UI</a></p>\n",
       "\n",
       "            <dl>\n",
       "              <dt>Version</dt>\n",
       "                <dd><code>v3.3.1</code></dd>\n",
       "              <dt>Master</dt>\n",
       "                <dd><code>local</code></dd>\n",
       "              <dt>AppName</dt>\n",
       "                <dd><code>Churn_Modeling</code></dd>\n",
       "            </dl>\n",
       "        </div>\n",
       "        "
      ],
      "text/plain": [
       "<SparkContext master=local appName=Churn_Modeling>"
      ]
     },
     "execution_count": 5,
     "metadata": {},
     "output_type": "execute_result"
    }
   ],
   "source": [
    "sc"
   ]
  },
  {
   "cell_type": "markdown",
   "id": "4084705b-abc6-44a7-a4f4-2d818b638030",
   "metadata": {},
   "source": [
    "# Import Necesaary Libraries"
   ]
  },
  {
   "cell_type": "code",
   "execution_count": 79,
   "id": "e8e3c574-dc54-4724-b5fd-4de8823dac06",
   "metadata": {},
   "outputs": [],
   "source": [
    "import pandas as pd\n",
    "pd.set_option(\"display.max_columns\",None)\n",
    "pd.set_option(\"display.max_rows\", None)\n",
    "pd.set_option(\"display.width\", 500)\n",
    "pd.set_option(\"display.float_format\", lambda x: '%.4f' % x)\n",
    "import pyspark.sql.functions as F\n",
    "from pyspark.ml.feature import StringIndexer, OneHotEncoder, VectorAssembler, StandardScaler\n",
    "from pyspark.ml.classification import GBTClassifier\n",
    "from pyspark.ml import Pipeline\n",
    "from pyspark.ml.evaluation import BinaryClassificationEvaluator\n",
    "from pyspark.ml.evaluation import MulticlassClassificationEvaluator\n",
    "from pyspark.ml.tuning import ParamGridBuilder, CrossValidator"
   ]
  },
  {
   "cell_type": "markdown",
   "id": "7d12cb34-0b7d-406a-b4fa-0086eb6cc664",
   "metadata": {},
   "source": [
    "# Import Dataset"
   ]
  },
  {
   "cell_type": "code",
   "execution_count": 11,
   "id": "2bdf01b8-5902-405d-b401-1479aaf15808",
   "metadata": {},
   "outputs": [
    {
     "data": {
      "text/plain": [
       "DataFrame[RowNumber: int, CustomerId: int, Surname: string, CreditScore: int, Geography: string, Gender: string, Age: int, Tenure: int, Balance: double, NumOfProducts: int, HasCrCard: int, IsActiveMember: int, EstimatedSalary: double, Exited: int]"
      ]
     },
     "execution_count": 11,
     "metadata": {},
     "output_type": "execute_result"
    }
   ],
   "source": [
    "df = (spark.read.format(\"csv\")\n",
    "      .option(\"header\", True)\n",
    "      .option(\"inferSchema\", True)\n",
    "      .load(\"Churn_Modelling.csv\")\n",
    ")\n",
    "df.persist()"
   ]
  },
  {
   "cell_type": "code",
   "execution_count": 12,
   "id": "70c7cdf6-ff3d-491f-8dfa-ecb1732750ee",
   "metadata": {},
   "outputs": [
    {
     "data": {
      "text/html": [
       "<div>\n",
       "<style scoped>\n",
       "    .dataframe tbody tr th:only-of-type {\n",
       "        vertical-align: middle;\n",
       "    }\n",
       "\n",
       "    .dataframe tbody tr th {\n",
       "        vertical-align: top;\n",
       "    }\n",
       "\n",
       "    .dataframe thead th {\n",
       "        text-align: right;\n",
       "    }\n",
       "</style>\n",
       "<table border=\"1\" class=\"dataframe\">\n",
       "  <thead>\n",
       "    <tr style=\"text-align: right;\">\n",
       "      <th></th>\n",
       "      <th>RowNumber</th>\n",
       "      <th>CustomerId</th>\n",
       "      <th>Surname</th>\n",
       "      <th>CreditScore</th>\n",
       "      <th>Geography</th>\n",
       "      <th>Gender</th>\n",
       "      <th>Age</th>\n",
       "      <th>Tenure</th>\n",
       "      <th>Balance</th>\n",
       "      <th>NumOfProducts</th>\n",
       "      <th>HasCrCard</th>\n",
       "      <th>IsActiveMember</th>\n",
       "      <th>EstimatedSalary</th>\n",
       "      <th>Exited</th>\n",
       "    </tr>\n",
       "  </thead>\n",
       "  <tbody>\n",
       "    <tr>\n",
       "      <th>0</th>\n",
       "      <td>1</td>\n",
       "      <td>15634602</td>\n",
       "      <td>Hargrave</td>\n",
       "      <td>619</td>\n",
       "      <td>France</td>\n",
       "      <td>Female</td>\n",
       "      <td>42</td>\n",
       "      <td>2</td>\n",
       "      <td>0.0000</td>\n",
       "      <td>1</td>\n",
       "      <td>1</td>\n",
       "      <td>1</td>\n",
       "      <td>101348.8800</td>\n",
       "      <td>1</td>\n",
       "    </tr>\n",
       "    <tr>\n",
       "      <th>1</th>\n",
       "      <td>2</td>\n",
       "      <td>15647311</td>\n",
       "      <td>Hill</td>\n",
       "      <td>608</td>\n",
       "      <td>Spain</td>\n",
       "      <td>Female</td>\n",
       "      <td>41</td>\n",
       "      <td>1</td>\n",
       "      <td>83807.8600</td>\n",
       "      <td>1</td>\n",
       "      <td>0</td>\n",
       "      <td>1</td>\n",
       "      <td>112542.5800</td>\n",
       "      <td>0</td>\n",
       "    </tr>\n",
       "    <tr>\n",
       "      <th>2</th>\n",
       "      <td>3</td>\n",
       "      <td>15619304</td>\n",
       "      <td>Onio</td>\n",
       "      <td>502</td>\n",
       "      <td>France</td>\n",
       "      <td>Female</td>\n",
       "      <td>42</td>\n",
       "      <td>8</td>\n",
       "      <td>159660.8000</td>\n",
       "      <td>3</td>\n",
       "      <td>1</td>\n",
       "      <td>0</td>\n",
       "      <td>113931.5700</td>\n",
       "      <td>1</td>\n",
       "    </tr>\n",
       "    <tr>\n",
       "      <th>3</th>\n",
       "      <td>4</td>\n",
       "      <td>15701354</td>\n",
       "      <td>Boni</td>\n",
       "      <td>699</td>\n",
       "      <td>France</td>\n",
       "      <td>Female</td>\n",
       "      <td>39</td>\n",
       "      <td>1</td>\n",
       "      <td>0.0000</td>\n",
       "      <td>2</td>\n",
       "      <td>0</td>\n",
       "      <td>0</td>\n",
       "      <td>93826.6300</td>\n",
       "      <td>0</td>\n",
       "    </tr>\n",
       "    <tr>\n",
       "      <th>4</th>\n",
       "      <td>5</td>\n",
       "      <td>15737888</td>\n",
       "      <td>Mitchell</td>\n",
       "      <td>850</td>\n",
       "      <td>Spain</td>\n",
       "      <td>Female</td>\n",
       "      <td>43</td>\n",
       "      <td>2</td>\n",
       "      <td>125510.8200</td>\n",
       "      <td>1</td>\n",
       "      <td>1</td>\n",
       "      <td>1</td>\n",
       "      <td>79084.1000</td>\n",
       "      <td>0</td>\n",
       "    </tr>\n",
       "  </tbody>\n",
       "</table>\n",
       "</div>"
      ],
      "text/plain": [
       "   RowNumber  CustomerId   Surname  CreditScore Geography  Gender  Age  Tenure     Balance  NumOfProducts  HasCrCard  IsActiveMember  EstimatedSalary  Exited\n",
       "0          1    15634602  Hargrave          619    France  Female   42       2      0.0000              1          1               1      101348.8800       1\n",
       "1          2    15647311      Hill          608     Spain  Female   41       1  83807.8600              1          0               1      112542.5800       0\n",
       "2          3    15619304      Onio          502    France  Female   42       8 159660.8000              3          1               0      113931.5700       1\n",
       "3          4    15701354      Boni          699    France  Female   39       1      0.0000              2          0               0       93826.6300       0\n",
       "4          5    15737888  Mitchell          850     Spain  Female   43       2 125510.8200              1          1               1       79084.1000       0"
      ]
     },
     "execution_count": 12,
     "metadata": {},
     "output_type": "execute_result"
    }
   ],
   "source": [
    "df.limit(5).toPandas()"
   ]
  },
  {
   "cell_type": "code",
   "execution_count": 15,
   "id": "8a1fbadd-7fb6-4eb5-b05f-d6f66c009225",
   "metadata": {},
   "outputs": [
    {
     "name": "stdout",
     "output_type": "stream",
     "text": [
      "root\n",
      " |-- RowNumber: integer (nullable = true)\n",
      " |-- CustomerId: integer (nullable = true)\n",
      " |-- Surname: string (nullable = true)\n",
      " |-- CreditScore: integer (nullable = true)\n",
      " |-- Geography: string (nullable = true)\n",
      " |-- Gender: string (nullable = true)\n",
      " |-- Age: integer (nullable = true)\n",
      " |-- Tenure: integer (nullable = true)\n",
      " |-- Balance: double (nullable = true)\n",
      " |-- NumOfProducts: integer (nullable = true)\n",
      " |-- HasCrCard: integer (nullable = true)\n",
      " |-- IsActiveMember: integer (nullable = true)\n",
      " |-- EstimatedSalary: double (nullable = true)\n",
      " |-- Exited: integer (nullable = true)\n",
      "\n"
     ]
    }
   ],
   "source": [
    "df.printSchema()"
   ]
  },
  {
   "cell_type": "code",
   "execution_count": 16,
   "id": "efa25117-7cd8-42a1-85cb-2f0607295fa0",
   "metadata": {},
   "outputs": [
    {
     "name": "stdout",
     "output_type": "stream",
     "text": [
      "+---------+----------+--------+-----------+---------+------+---+------+---------+-------------+---------+--------------+---------------+------+\n",
      "|RowNumber|CustomerId| Surname|CreditScore|Geography|Gender|Age|Tenure|  Balance|NumOfProducts|HasCrCard|IsActiveMember|EstimatedSalary|Exited|\n",
      "+---------+----------+--------+-----------+---------+------+---+------+---------+-------------+---------+--------------+---------------+------+\n",
      "|        1|  15634602|Hargrave|        619|   France|Female| 42|     2|      0.0|            1|        1|             1|      101348.88|     1|\n",
      "|        2|  15647311|    Hill|        608|    Spain|Female| 41|     1| 83807.86|            1|        0|             1|      112542.58|     0|\n",
      "|        3|  15619304|    Onio|        502|   France|Female| 42|     8| 159660.8|            3|        1|             0|      113931.57|     1|\n",
      "|        4|  15701354|    Boni|        699|   France|Female| 39|     1|      0.0|            2|        0|             0|       93826.63|     0|\n",
      "|        5|  15737888|Mitchell|        850|    Spain|Female| 43|     2|125510.82|            1|        1|             1|        79084.1|     0|\n",
      "+---------+----------+--------+-----------+---------+------+---+------+---------+-------------+---------+--------------+---------------+------+\n",
      "only showing top 5 rows\n",
      "\n"
     ]
    }
   ],
   "source": [
    "df.show(5)"
   ]
  },
  {
   "cell_type": "code",
   "execution_count": 21,
   "id": "61460f99-bd15-46e4-81a9-0668fee946b3",
   "metadata": {},
   "outputs": [
    {
     "name": "stdout",
     "output_type": "stream",
     "text": [
      "(10000, 14)\n"
     ]
    }
   ],
   "source": [
    "print((df.count(), len(df.columns)))"
   ]
  },
  {
   "cell_type": "markdown",
   "id": "7b954dd7-de5b-4d8b-8362-c11fecd2412a",
   "metadata": {},
   "source": [
    "# Missing Value Analysis"
   ]
  },
  {
   "cell_type": "code",
   "execution_count": 23,
   "id": "c96b8139-bd11-41ae-9110-1a9d13a44944",
   "metadata": {},
   "outputs": [
    {
     "data": {
      "text/html": [
       "<div>\n",
       "<style scoped>\n",
       "    .dataframe tbody tr th:only-of-type {\n",
       "        vertical-align: middle;\n",
       "    }\n",
       "\n",
       "    .dataframe tbody tr th {\n",
       "        vertical-align: top;\n",
       "    }\n",
       "\n",
       "    .dataframe thead th {\n",
       "        text-align: right;\n",
       "    }\n",
       "</style>\n",
       "<table border=\"1\" class=\"dataframe\">\n",
       "  <thead>\n",
       "    <tr style=\"text-align: right;\">\n",
       "      <th></th>\n",
       "      <th>RowNumber</th>\n",
       "      <th>CustomerId</th>\n",
       "      <th>Surname</th>\n",
       "      <th>CreditScore</th>\n",
       "      <th>Geography</th>\n",
       "      <th>Gender</th>\n",
       "      <th>Age</th>\n",
       "      <th>Tenure</th>\n",
       "      <th>Balance</th>\n",
       "      <th>NumOfProducts</th>\n",
       "      <th>HasCrCard</th>\n",
       "      <th>IsActiveMember</th>\n",
       "      <th>EstimatedSalary</th>\n",
       "      <th>Exited</th>\n",
       "    </tr>\n",
       "  </thead>\n",
       "  <tbody>\n",
       "    <tr>\n",
       "      <th>0</th>\n",
       "      <td>0</td>\n",
       "      <td>0</td>\n",
       "      <td>0</td>\n",
       "      <td>0</td>\n",
       "      <td>0</td>\n",
       "      <td>0</td>\n",
       "      <td>0</td>\n",
       "      <td>0</td>\n",
       "      <td>0</td>\n",
       "      <td>0</td>\n",
       "      <td>0</td>\n",
       "      <td>0</td>\n",
       "      <td>0</td>\n",
       "      <td>0</td>\n",
       "    </tr>\n",
       "  </tbody>\n",
       "</table>\n",
       "</div>"
      ],
      "text/plain": [
       "   RowNumber  CustomerId  Surname  CreditScore  Geography  Gender  Age  Tenure  Balance  NumOfProducts  HasCrCard  IsActiveMember  EstimatedSalary  Exited\n",
       "0          0           0        0            0          0       0    0       0        0              0          0               0                0       0"
      ]
     },
     "execution_count": 23,
     "metadata": {},
     "output_type": "execute_result"
    }
   ],
   "source": [
    "df.select([F.count(F.when(F.isnan(c), c)).alias(c) for c in df.columns]).toPandas()"
   ]
  },
  {
   "cell_type": "code",
   "execution_count": 24,
   "id": "d8623eab-35c8-43d9-8f90-28c510fdb122",
   "metadata": {},
   "outputs": [],
   "source": [
    "def null_count(dataframe, col_name):\n",
    "    nc = dataframe.select(col_name).filter(\n",
    "        (F.col(col_name) == \"NA\")|\n",
    "        (F.col(col_name) == \"\") |\n",
    "        (F.col(col_name).isNull())\n",
    "    ).count()\n",
    "    return nc"
   ]
  },
  {
   "cell_type": "code",
   "execution_count": 25,
   "id": "541571af-4ef1-4656-a65d-39dd62c15bf3",
   "metadata": {},
   "outputs": [
    {
     "data": {
      "text/plain": [
       "0"
      ]
     },
     "execution_count": 25,
     "metadata": {},
     "output_type": "execute_result"
    }
   ],
   "source": [
    "null_count(df, \"Geography\")"
   ]
  },
  {
   "cell_type": "code",
   "execution_count": 35,
   "id": "28126489-cae1-4ca8-b2b7-ab4ad1360e89",
   "metadata": {},
   "outputs": [],
   "source": [
    "def show_all_null(dataframe):\n",
    "    for col_name in dataframe.dtypes:\n",
    "        nc = null_count(dataframe, col_name[0])\n",
    "        if nc > 0:\n",
    "            print(\"{} ===> {} , Ratio: {:.2f}\".format(col_name[0], nc, (nc/dataframe.count())*100))\n",
    "    if nc == 0:\n",
    "        print(\"There is no null value\")    "
   ]
  },
  {
   "cell_type": "code",
   "execution_count": 36,
   "id": "81e24c45-7508-430c-b0ec-a63c61a13574",
   "metadata": {},
   "outputs": [
    {
     "name": "stdout",
     "output_type": "stream",
     "text": [
      "There is no null value\n"
     ]
    }
   ],
   "source": [
    "show_all_null(df)"
   ]
  },
  {
   "cell_type": "markdown",
   "id": "6eaad584-6013-4a93-b1d9-bd4dfc2dbd3b",
   "metadata": {},
   "source": [
    "# Analysis of Categorical and Numerical Variables"
   ]
  },
  {
   "cell_type": "code",
   "execution_count": 41,
   "id": "204f0bdd-a21c-4b85-acaa-f66ff18d770d",
   "metadata": {},
   "outputs": [],
   "source": [
    "categorical_cols = []\n",
    "numerical_cols = []\n",
    "label_col = [\"Exited\"]\n",
    "discarted_cols = [\"RowNumber\", \"CustomerId\", \"Surname\"]"
   ]
  },
  {
   "cell_type": "code",
   "execution_count": 42,
   "id": "b9abae1f-6a6e-48f1-b39e-16e6f4057f46",
   "metadata": {},
   "outputs": [],
   "source": [
    "def grab_cat_num_cols(dataframe):\n",
    "    for col_name in dataframe.dtypes:\n",
    "        if (col_name[0] not in label_col+discarted_cols):\n",
    "            if col_name[1] == \"string\":\n",
    "                categorical_cols.append(col_name[0])\n",
    "            else:\n",
    "                numerical_cols.append(col_name[0])\n",
    "    return categorical_cols, numerical_cols"
   ]
  },
  {
   "cell_type": "code",
   "execution_count": 43,
   "id": "c6ceeab4-a5df-4e90-8705-534245ec3298",
   "metadata": {},
   "outputs": [
    {
     "name": "stdout",
     "output_type": "stream",
     "text": [
      "Observations: 10000\n",
      "Variables: 14\n",
      "Cat_cols: 2\n",
      "Num_cols: 8\n"
     ]
    }
   ],
   "source": [
    "categorical_cols, numerical_cols = grab_cat_num_cols(df)\n",
    "\n",
    "#Print Categorical and Numerical Variables\n",
    "print(f\"Observations: {df.count()}\")\n",
    "print(f\"Variables: {len(df.columns)}\")\n",
    "print(f\"Cat_cols: {len(categorical_cols)}\")\n",
    "print(f\"Num_cols: {len(numerical_cols)}\")"
   ]
  },
  {
   "cell_type": "code",
   "execution_count": 45,
   "id": "54e70fdb-3d6b-426b-9302-4815b69247ba",
   "metadata": {},
   "outputs": [
    {
     "name": "stdout",
     "output_type": "stream",
     "text": [
      "column check is True\n"
     ]
    }
   ],
   "source": [
    "# column check\n",
    "if (len(df.columns) == (len(label_col) + len(discarted_cols) + len(categorical_cols) + len(numerical_cols))):\n",
    "    print(\"column check is True\")\n",
    "else:\n",
    "    print(\"There is a problem for column check\")"
   ]
  },
  {
   "cell_type": "code",
   "execution_count": 46,
   "id": "a60cf35c-5c3e-4a92-a438-97d300983782",
   "metadata": {},
   "outputs": [],
   "source": [
    "# trim categoric cols\n",
    "def trim_cols(dataframe, cat_cols):\n",
    "    for col_name in cat_cols:\n",
    "        dataframe = dataframe.withColumn(col_name, F.trim(col_name))"
   ]
  },
  {
   "cell_type": "code",
   "execution_count": 47,
   "id": "b1b5b38e-2443-497f-956a-a4a03eb6f6d1",
   "metadata": {},
   "outputs": [],
   "source": [
    "trim_cols(df, categorical_cols)"
   ]
  },
  {
   "cell_type": "code",
   "execution_count": 48,
   "id": "915b199c-9a4d-40cb-9d8c-a5d7d2ad3919",
   "metadata": {},
   "outputs": [
    {
     "name": "stdout",
     "output_type": "stream",
     "text": [
      "+------+-----+\n",
      "|Exited|count|\n",
      "+------+-----+\n",
      "|     1| 2037|\n",
      "|     0| 7963|\n",
      "+------+-----+\n",
      "\n"
     ]
    }
   ],
   "source": [
    "# Show Exited \n",
    "df.select(label_col[0]).groupBy(label_col[0]).count().show()"
   ]
  },
  {
   "cell_type": "code",
   "execution_count": 49,
   "id": "4ae571f7-1bb2-4b78-8fee-5bb16e6b0b64",
   "metadata": {},
   "outputs": [],
   "source": [
    "def examine_categories(dataframe, cat_cols):\n",
    "    for cat_col in cat_cols:\n",
    "        print(cat_col)\n",
    "        dataframe.groupBy(cat_col).count().orderBy(F.desc(\"count\")).show()"
   ]
  },
  {
   "cell_type": "code",
   "execution_count": 50,
   "id": "6dd1941a-108b-4cd7-af87-f77362dadd20",
   "metadata": {},
   "outputs": [
    {
     "name": "stdout",
     "output_type": "stream",
     "text": [
      "Geography\n",
      "+---------+-----+\n",
      "|Geography|count|\n",
      "+---------+-----+\n",
      "|   France| 5014|\n",
      "|  Germany| 2509|\n",
      "|    Spain| 2477|\n",
      "+---------+-----+\n",
      "\n",
      "Gender\n",
      "+------+-----+\n",
      "|Gender|count|\n",
      "+------+-----+\n",
      "|  Male| 5457|\n",
      "|Female| 4543|\n",
      "+------+-----+\n",
      "\n"
     ]
    }
   ],
   "source": [
    "examine_categories(df, categorical_cols)"
   ]
  },
  {
   "cell_type": "markdown",
   "id": "d8b496cd-7d36-47b7-8570-2f1db7c7c365",
   "metadata": {},
   "source": [
    "# Encoding Scaling"
   ]
  },
  {
   "cell_type": "code",
   "execution_count": 57,
   "id": "1eef6f59-6eea-4a74-a19d-6b5fa9652bea",
   "metadata": {},
   "outputs": [],
   "source": [
    "def find_binary_cols(dataframe, cat_cols):\n",
    "    binary_cols = dataframe.select([col for col in cat_cols if dataframe.select(col).dtypes[0][1] == \"string\" and dataframe.select(col).distinct().count() == 2])\n",
    "    return binary_cols"
   ]
  },
  {
   "cell_type": "code",
   "execution_count": 58,
   "id": "80ee39f6-7eb6-41b1-a67e-428246d7b256",
   "metadata": {},
   "outputs": [
    {
     "name": "stdout",
     "output_type": "stream",
     "text": [
      "['Gender']\n"
     ]
    }
   ],
   "source": [
    "binary_cols = find_binary_cols(df, categorical_cols)\n",
    "print(binary_cols.columns)"
   ]
  },
  {
   "cell_type": "code",
   "execution_count": 59,
   "id": "b0b30199-6ad2-4356-b7ee-f96f8e323e94",
   "metadata": {},
   "outputs": [],
   "source": [
    "my_dict = {}\n",
    "string_indexer_objs = []\n",
    "string_indexer_output_names = []\n",
    "ohe_input_names = []\n",
    "ohe_output_names = []\n",
    "\n",
    "for col_name in categorical_cols:\n",
    "    my_dict[col_name+\"_index_obj\"] = StringIndexer() \\\n",
    "    .setHandleInvalid(\"skip\") \\\n",
    "    .setInputCol(col_name) \\\n",
    "    .setOutputCol(col_name+\"_indexed\")\n",
    "    \n",
    "    string_indexer_objs.append(my_dict.get(col_name+\"_index_obj\"))\n",
    "    string_indexer_output_names.append(col_name+\"_indexed\")\n",
    "    \n",
    "    if col_name not in binary_cols.columns:\n",
    "        ohe_input_names.append(col_name+\"_indexed\")\n",
    "        ohe_output_names.append(col_name+\"_ohe\")"
   ]
  },
  {
   "cell_type": "code",
   "execution_count": 60,
   "id": "c367ed03-578b-4ff8-870f-4dcf77a14eb0",
   "metadata": {},
   "outputs": [
    {
     "name": "stdout",
     "output_type": "stream",
     "text": [
      "['Gender_indexed']\n"
     ]
    }
   ],
   "source": [
    "not_to_hot_coded = list(set(string_indexer_output_names).difference(set(ohe_input_names)))\n",
    "print(not_to_hot_coded)"
   ]
  },
  {
   "cell_type": "code",
   "execution_count": 61,
   "id": "57281dee-11bd-4d3e-8f65-b1f61562676c",
   "metadata": {},
   "outputs": [],
   "source": [
    "encoder = OneHotEncoder().setInputCols(ohe_input_names).setOutputCols(ohe_output_names)\n",
    "assembler = VectorAssembler().setHandleInvalid(\"skip\").setInputCols(numerical_cols + not_to_hot_coded + ohe_output_names).setOutputCol(\"unscaled_features\")\n",
    "scaler = StandardScaler().setInputCol(\"unscaled_features\").setOutputCol(\"features\")"
   ]
  },
  {
   "cell_type": "markdown",
   "id": "e658a3f2-35d7-4a95-bb13-856b2e4e0850",
   "metadata": {},
   "source": [
    "# Create Model"
   ]
  },
  {
   "cell_type": "code",
   "execution_count": 62,
   "id": "609531e0-6457-4f2f-b7ef-dfcb97c0ba93",
   "metadata": {},
   "outputs": [
    {
     "name": "stdout",
     "output_type": "stream",
     "text": [
      "7968 2032\n"
     ]
    }
   ],
   "source": [
    "# split dataset\n",
    "train_df, test_df = df.randomSplit([0.8, 0.2], seed=123)\n",
    "print(train_df.count() , test_df.count())"
   ]
  },
  {
   "cell_type": "code",
   "execution_count": 66,
   "id": "7450b234-8091-46dc-8367-4d0dc43bd4ec",
   "metadata": {},
   "outputs": [],
   "source": [
    "# create Estimator\n",
    "estimator = GBTClassifier(labelCol=label_col[0])"
   ]
  },
  {
   "cell_type": "code",
   "execution_count": 67,
   "id": "dd20e843-69d8-4690-b6a9-11475bce2419",
   "metadata": {},
   "outputs": [],
   "source": [
    "# create pipeline object\n",
    "pipeline_obj = Pipeline().setStages(string_indexer_objs + [encoder, assembler, scaler, estimator])"
   ]
  },
  {
   "cell_type": "code",
   "execution_count": 68,
   "id": "1c0d7bb6-b50a-48c5-8659-47861f5f6221",
   "metadata": {},
   "outputs": [],
   "source": [
    "# train model\n",
    "pipeline_model = pipeline_obj.fit(train_df)"
   ]
  },
  {
   "cell_type": "code",
   "execution_count": 69,
   "id": "9469d840-2a31-45bb-bb05-9981706e3ed2",
   "metadata": {},
   "outputs": [
    {
     "name": "stdout",
     "output_type": "stream",
     "text": [
      "+------+----------+\n",
      "|Exited|prediction|\n",
      "+------+----------+\n",
      "|     1|       1.0|\n",
      "|     0|       0.0|\n",
      "|     0|       0.0|\n",
      "|     0|       0.0|\n",
      "|     0|       1.0|\n",
      "+------+----------+\n",
      "only showing top 5 rows\n",
      "\n"
     ]
    }
   ],
   "source": [
    "# prediction\n",
    "transform_df = pipeline_model.transform(test_df)\n",
    "transform_df.select(\"Exited\", \"prediction\").show(5)"
   ]
  },
  {
   "cell_type": "code",
   "execution_count": 77,
   "id": "c25f1d9c-fa4d-4f2f-a9e6-e99709d703e8",
   "metadata": {},
   "outputs": [
    {
     "name": "stdout",
     "output_type": "stream",
     "text": [
      "Accuracy:  0.8676181102362205\n"
     ]
    }
   ],
   "source": [
    "acc = transform_df.select(\"Exited\", \"prediction\")\n",
    "print(\"Accuracy: \" , acc.filter(acc[\"Exited\"] == acc[\"prediction\"]).count() / acc.count())"
   ]
  },
  {
   "cell_type": "code",
   "execution_count": 105,
   "id": "69f968ac-246a-40fe-a439-f7bfa35ce1be",
   "metadata": {},
   "outputs": [
    {
     "name": "stdout",
     "output_type": "stream",
     "text": [
      "accuracy: 0.867618, precision: 0.887704, recall: 0.958182, f1: 0.856447, roc_auc: 0.856447\n"
     ]
    }
   ],
   "source": [
    "evaluatorMulti = MulticlassClassificationEvaluator(labelCol=\"Exited\", predictionCol=\"prediction\")\n",
    "acc = evaluatorMulti.evaluate(transform_df, {evaluatorMulti.metricName: \"accuracy\"})\n",
    "precision = evaluatorMulti.evaluate(transform_df, {evaluatorMulti.metricName: \"precisionByLabel\"})\n",
    "recall = evaluatorMulti.evaluate(transform_df, {evaluatorMulti.metricName: \"recallByLabel\"})\n",
    "f1 = evaluatorMulti.evaluate(transform_df, {evaluatorMulti.metricName: \"f1\"})\n",
    "roc_auc = evaluatorMulti.evaluate(transform_df)\n",
    "print(\"accuracy: %f, precision: %f, recall: %f, f1: %f, roc_auc: %f\" % (acc, precision, recall, f1, roc_auc))"
   ]
  },
  {
   "cell_type": "markdown",
   "id": "47fcb388-a766-4438-a02e-34716a55181f",
   "metadata": {},
   "source": [
    "# Model Tuning"
   ]
  },
  {
   "cell_type": "code",
   "execution_count": 106,
   "id": "e65cb740-45d2-4a0b-98fe-ed0ee82c85c4",
   "metadata": {},
   "outputs": [],
   "source": [
    "paramGrid = (ParamGridBuilder()\n",
    "             .addGrid(estimator.maxDepth, [2, 4, 6])\n",
    "             .addGrid(estimator.maxBins, [20, 30])\n",
    "             .addGrid(estimator.maxIter, [10, 20])\n",
    "             .build())\n",
    "cv = CrossValidator(estimator=pipeline_obj,\n",
    "                    estimatorParamMaps=paramGrid,\n",
    "                    evaluator=BinaryClassificationEvaluator(labelCol=label_col[0]),\n",
    "                    numFolds=10)"
   ]
  },
  {
   "cell_type": "code",
   "execution_count": 107,
   "id": "77b1f1cb-81c6-4663-a829-3e91bac821be",
   "metadata": {},
   "outputs": [],
   "source": [
    "cv_model = cv.fit(train_df)"
   ]
  },
  {
   "cell_type": "code",
   "execution_count": 108,
   "id": "cce05fbd-b565-41d8-8831-2123844ae643",
   "metadata": {},
   "outputs": [
    {
     "name": "stdout",
     "output_type": "stream",
     "text": [
      "+------+----------+\n",
      "|Exited|prediction|\n",
      "+------+----------+\n",
      "|     1|       1.0|\n",
      "|     0|       0.0|\n",
      "|     0|       0.0|\n",
      "|     0|       0.0|\n",
      "|     0|       1.0|\n",
      "+------+----------+\n",
      "only showing top 5 rows\n",
      "\n"
     ]
    }
   ],
   "source": [
    "# prediction\n",
    "y_pred = cv_model.transform(test_df)\n",
    "y_pred.select(\"Exited\", \"prediction\").show(5)"
   ]
  },
  {
   "cell_type": "code",
   "execution_count": 109,
   "id": "ee973fc2-8c7c-4702-9a0b-ea6e8df78287",
   "metadata": {},
   "outputs": [
    {
     "name": "stdout",
     "output_type": "stream",
     "text": [
      "Accuracy:  0.8695866141732284\n"
     ]
    }
   ],
   "source": [
    "acc = y_pred.select(\"Exited\", \"prediction\")\n",
    "print(\"Accuracy: \" , acc.filter(acc[\"Exited\"] == acc[\"prediction\"]).count() / acc.count())"
   ]
  },
  {
   "cell_type": "code",
   "execution_count": 110,
   "id": "c62e2e00-f1c5-4fde-aa18-ec9f23f3a4a0",
   "metadata": {},
   "outputs": [
    {
     "name": "stdout",
     "output_type": "stream",
     "text": [
      "accuracy: 0.869587, precision: 0.887521, recall: 0.961212, f1: 0.857938, roc_auc: 0.857938\n"
     ]
    }
   ],
   "source": [
    "evaluatorMulti = MulticlassClassificationEvaluator(labelCol=\"Exited\", predictionCol=\"prediction\")\n",
    "acc = evaluatorMulti.evaluate(y_pred, {evaluatorMulti.metricName: \"accuracy\"})\n",
    "precision = evaluatorMulti.evaluate(y_pred, {evaluatorMulti.metricName: \"precisionByLabel\"})\n",
    "recall = evaluatorMulti.evaluate(y_pred, {evaluatorMulti.metricName: \"recallByLabel\"})\n",
    "f1 = evaluatorMulti.evaluate(y_pred, {evaluatorMulti.metricName: \"f1\"})\n",
    "roc_auc = evaluatorMulti.evaluate(y_pred)\n",
    "print(\"accuracy: %f, precision: %f, recall: %f, f1: %f, roc_auc: %f\" % (acc, precision, recall, f1, roc_auc))"
   ]
  }
 ],
 "metadata": {
  "kernelspec": {
   "display_name": "Python 3 (ipykernel)",
   "language": "python",
   "name": "python3"
  },
  "language_info": {
   "codemirror_mode": {
    "name": "ipython",
    "version": 3
   },
   "file_extension": ".py",
   "mimetype": "text/x-python",
   "name": "python",
   "nbconvert_exporter": "python",
   "pygments_lexer": "ipython3",
   "version": "3.9.12"
  }
 },
 "nbformat": 4,
 "nbformat_minor": 5
}
